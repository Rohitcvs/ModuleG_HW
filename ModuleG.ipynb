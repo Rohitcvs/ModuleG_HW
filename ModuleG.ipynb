{
  "nbformat": 4,
  "nbformat_minor": 0,
  "metadata": {
    "colab": {
      "provenance": [],
      "authorship_tag": "ABX9TyN9YqmV6jCaF3t/Ld27H+B2",
      "include_colab_link": true
    },
    "kernelspec": {
      "name": "python3",
      "display_name": "Python 3"
    },
    "language_info": {
      "name": "python"
    }
  },
  "cells": [
    {
      "cell_type": "markdown",
      "metadata": {
        "id": "view-in-github",
        "colab_type": "text"
      },
      "source": [
        "<a href=\"https://colab.research.google.com/github/Rohitcvs/ModuleG_HW/blob/main/ModuleG.ipynb\" target=\"_parent\"><img src=\"https://colab.research.google.com/assets/colab-badge.svg\" alt=\"Open In Colab\"/></a>"
      ]
    },
    {
      "cell_type": "markdown",
      "source": [
        "Section 1: Numerical Integration Problem Statement\n",
        "Numerical integration is a branch of numerical analysis concerned with estimating the accumulated value or area described by a function over a given interval. In many situations, it can be challenging—or even impossible—to find an exact representation of this accumulated value using traditional algebraic or calculus methods. For instance, a function might be too complex, might not have a known antiderivative, or might be based on real-world data gathered at discrete points. Numerical integration techniques address these challenges by using computational algorithms that break the problem into smaller, more manageable parts. Each part contributes an estimate of how much “area” lies under the curve of the function. These contributions are then summed to produce an approximate overall result. As a result, numerical integration provides a practical pathway for scientists, engineers, economists, and other professionals to solve real-world problems such as predicting physical behavior, analyzing signals, or computing statistical probabilities when exact solutions are not readily available."
      ],
      "metadata": {
        "id": "Q3UP7R5j0lCU"
      }
    },
    {
      "cell_type": "code",
      "source": [
        "import numpy as np\n",
        "\n",
        "# Example function, e.g. f(x) = x^2\n",
        "def f(x):\n",
        "    return x**2\n",
        "\n",
        "# Interval of integration\n",
        "a = 0\n",
        "b = 2\n",
        "\n",
        "# Exact solution (if known) for reference\n",
        "# ∫ x^2 dx from 0 to 2 = [x^3 / 3]_0^2 = 8/3\n",
        "exact_value = 8/3\n",
        "\n",
        "# Placeholder for numerical approximation\n",
        "approximation = None  # will be replaced with a numerical method\n",
        "\n",
        "print(\"Exact value:\", exact_value)\n",
        "print(\"Approximation:\", approximation)\n",
        "print(\"Error:\", abs(exact_value - approximation) if approximation else \"N/A\")"
      ],
      "metadata": {
        "colab": {
          "base_uri": "https://localhost:8080/"
        },
        "id": "jYLogCK30uap",
        "outputId": "2dc7d357-482b-41fa-f61e-ae829034b00d"
      },
      "execution_count": 1,
      "outputs": [
        {
          "output_type": "stream",
          "name": "stdout",
          "text": [
            "Exact value: 2.6666666666666665\n",
            "Approximation: None\n",
            "Error: N/A\n"
          ]
        }
      ]
    },
    {
      "cell_type": "markdown",
      "source": [
        "Section 2: Riemann’s Integral (Using Riemann Sums)\n",
        "A Riemann integral represents the idea of measuring the total accumulation of a function’s values across an interval. In practice, this can be done by slicing the interval into smaller pieces and looking at how much “area” each piece covers under the function curve. The function can be sampled at specific points—like the left side, right side, or middle of each piece—to determine its contribution to the total. As the slices become very small, the sum of these contributions approaches the true integral. This method underscores the fundamental concept that integrals measure an accumulated quantity, whether it be area, mass, or any other cumulative property represented by a continuous function."
      ],
      "metadata": {
        "id": "vAewvwq903Bc"
      }
    },
    {
      "cell_type": "code",
      "source": [
        "import numpy as np\n",
        "\n",
        "def f(x):\n",
        "    return np.sin(x)  # Example function\n",
        "\n",
        "def riemann_sum(f, a, b, n):\n",
        "    \"\"\"\n",
        "    Approximates the integral of f(x) from a to b using the midpoint Riemann sum.\n",
        "    :param f: function to integrate\n",
        "    :param a: lower bound of integration\n",
        "    :param b: upper bound of integration\n",
        "    :param n: number of subintervals\n",
        "    :return: approximate integral value\n",
        "    \"\"\"\n",
        "    x = np.linspace(a, b, n+1)      # endpoints of subintervals\n",
        "    midpoints = (x[:-1] + x[1:]) / 2  # midpoints of each subinterval\n",
        "    delta_x = (b - a) / n\n",
        "    return np.sum(f(midpoints)) * delta_x\n",
        "\n",
        "# Example usage\n",
        "a, b = 0, np.pi\n",
        "n = 1000\n",
        "approx_riemann = riemann_sum(f, a, b, n)\n",
        "\n",
        "# Compare with known integral of sin(x) from 0 to pi = 2\n",
        "exact_value = 2\n",
        "error = abs(exact_value - approx_riemann)\n",
        "\n",
        "print(f\"Riemann Sum Approximation (midpoint), n={n}: {approx_riemann:.6f}\")\n",
        "print(f\"Exact Value: {exact_value:.6f}\")\n",
        "print(f\"Error: {error:.6f}\")"
      ],
      "metadata": {
        "colab": {
          "base_uri": "https://localhost:8080/"
        },
        "id": "u65PsYJI1AKB",
        "outputId": "253f17d6-763c-4518-acb1-ff831088dfd1"
      },
      "execution_count": 2,
      "outputs": [
        {
          "output_type": "stream",
          "name": "stdout",
          "text": [
            "Riemann Sum Approximation (midpoint), n=1000: 2.000001\n",
            "Exact Value: 2.000000\n",
            "Error: 0.000001\n"
          ]
        }
      ]
    },
    {
      "cell_type": "markdown",
      "source": [
        "Section 3: Trapezoid Rule\n",
        "The trapezoid rule is a straightforward yet effective technique for estimating an integral by treating each segment of the interval like a trapezoid rather than a rectangle. It does this by taking the average of the function’s values at both ends of a small segment and using that average to determine the area. This often yields a closer match to the actual curve compared to simpler methods that rely on a single representative point within each segment. Despite its relative simplicity, the trapezoid rule can perform quite well for a wide variety of functions, especially if the function changes gradually over the interval. In contexts where computational speed is essential, this method offers a good balance between accuracy and efficiency. Although there are more advanced methods that may achieve higher accuracy (such as Simpson’s rule), the trapezoid rule remains a favorite starting point for many numerical integration applications because of its intuitive geometric interpretation and ease of implementation."
      ],
      "metadata": {
        "id": "mYgqYvVE1H9U"
      }
    },
    {
      "cell_type": "code",
      "source": [
        "import numpy as np\n",
        "\n",
        "def f(x):\n",
        "    return x**3  # Example function\n",
        "\n",
        "def trapezoid_rule(f, a, b, n):\n",
        "    \"\"\"\n",
        "    Approximates the integral of f(x) from a to b using the trapezoid rule.\n",
        "    :param f: function to integrate\n",
        "    :param a: lower bound of integration\n",
        "    :param b: upper bound of integration\n",
        "    :param n: number of subintervals\n",
        "    :return: approximate integral value\n",
        "    \"\"\"\n",
        "    x = np.linspace(a, b, n+1)   # n+1 points make n subintervals\n",
        "    y = f(x)\n",
        "    delta_x = (b - a) / n\n",
        "    # Using the trapezoid rule summation:\n",
        "    # (f(x0) + 2*f(x1) + 2*f(x2) + ... + 2*f(x_{n-1}) + f(xn)) * (delta_x / 2)\n",
        "    return (delta_x / 2) * (y[0] + 2*np.sum(y[1:-1]) + y[-1])\n",
        "\n",
        "# Example usage\n",
        "a, b = 0, 1\n",
        "n = 100\n",
        "approx_trap = trapezoid_rule(f, a, b, n)\n",
        "\n",
        "# Exact integral of x^3 from 0 to 1 is 1/4\n",
        "exact_value = 1/4\n",
        "error = abs(exact_value - approx_trap)\n",
        "\n",
        "print(f\"Trapezoid Rule Approximation, n={n}: {approx_trap:.6f}\")\n",
        "print(f\"Exact Value: {exact_value:.6f}\")\n",
        "print(f\"Error: {error:.6f}\")"
      ],
      "metadata": {
        "colab": {
          "base_uri": "https://localhost:8080/"
        },
        "id": "sR_1sNVk1OOB",
        "outputId": "f36cdfd5-ef47-4fc1-be95-2dd1c6acf57f"
      },
      "execution_count": 3,
      "outputs": [
        {
          "output_type": "stream",
          "name": "stdout",
          "text": [
            "Trapezoid Rule Approximation, n=100: 0.250025\n",
            "Exact Value: 0.250000\n",
            "Error: 0.000025\n"
          ]
        }
      ]
    },
    {
      "cell_type": "code",
      "source": [],
      "metadata": {
        "id": "pu0XZi541SFm"
      },
      "execution_count": null,
      "outputs": []
    }
  ]
}